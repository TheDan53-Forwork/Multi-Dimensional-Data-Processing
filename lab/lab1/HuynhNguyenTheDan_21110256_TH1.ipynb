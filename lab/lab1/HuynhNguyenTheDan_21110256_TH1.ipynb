{
 "cells": [
  {
   "cell_type": "markdown",
   "metadata": {},
   "source": [
    "# <center> Bài tập Lý thuyết môn Xử lý Đa chiều </center>"
   ]
  },
  {
   "cell_type": "markdown",
   "metadata": {},
   "source": [
    "### **Họ và tên:** Huỳnh Nguyễn Thế Dân\n",
    "### **MSSV:** 21110256\n",
    "### **Lớp:** 21TTH1"
   ]
  },
  {
   "cell_type": "markdown",
   "metadata": {},
   "source": [
    "## <center> Answer </center>"
   ]
  },
  {
   "cell_type": "markdown",
   "metadata": {},
   "source": [
    "### 1.\n",
    "\n",
    "<center>\n",
    "\n",
    "| 5 | 2 |\n",
    "|---|---|\n",
    "| 2 | 2 |\n",
    "\n",
    "</center>\n",
    "\n",
    "Để giải bài toán này, chúng ta sẽ sử dụng phân tích thành phần chính (PCA - Principal Component Analysis).\n",
    "\n",
    "**a. Xác định các thành phần chính:**\n",
    "\n",
    "Các bước để xác định các thành phần chính:\n",
    "\n",
    "1. Tính các vector riêng và các giá trị riêng của ma trận hiệp phương sai.\n",
    "2. Sắp xếp các giá trị riêng giảm dần và các vector riêng tương ứng.\n",
    "3. Chịn các thành phần chính là các vector riêng tương ứng với các giá trị riêng lớn nhất.\n",
    "\n",
    "Bước 1: Tính các vector riêng và các giá trị riêng:\n",
    "\n",
    "Để tính các vector riêng và các giá trị riêng, chúng ta cần giải phương trình đặc trưng:\n",
    "\n",
    "<center>\n",
    "\n",
    "|_S_ - &lambda;_I_| = 0\n",
    "\n",
    "</center>\n",
    "\n",
    "Trong đó:\n",
    "\n",
    "- _S_ là ma trận hiệp phương sai.\n",
    "- &lambda; là giá trị riêng.\n",
    "- _I_ là ma trận đơn vị.\n",
    "\n",
    "Tính định thức của _S_ - &lambda;_I_ và giải phương trình để tìm các giá trị riêng.\n",
    "\n",
    "|_S_ - &lambda;_I_| =\n",
    "\n",
    "| 5 - 1 | 2   |\n",
    "| ---   | --- |\n",
    "| 2 - 1 | 4   |"
   ]
  }
 ],
 "metadata": {
  "language_info": {
   "name": "python"
  }
 },
 "nbformat": 4,
 "nbformat_minor": 2
}
