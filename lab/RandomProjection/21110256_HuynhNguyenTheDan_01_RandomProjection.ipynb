{
 "cells": [
  {
   "cell_type": "markdown",
   "metadata": {},
   "source": [
    "# <center> Bài tập Thực hành môn Xử lý Đa chiều </center>"
   ]
  },
  {
   "cell_type": "markdown",
   "metadata": {},
   "source": [
    "### **Họ và tên:** Huỳnh Nguyễn Thế Dân\n",
    "### **MSSV:** 21110256\n",
    "### **Lớp:** 21TTH1"
   ]
  },
  {
   "cell_type": "markdown",
   "metadata": {},
   "source": [
    "# <center> Trả lời </center>"
   ]
  },
  {
   "cell_type": "markdown",
   "metadata": {},
   "source": [
    "## Bài 2."
   ]
  },
  {
   "cell_type": "code",
   "execution_count": 2,
   "metadata": {},
   "outputs": [],
   "source": [
    "import numpy as np\n",
    "\n",
    "# a) Phát sinh tập dữ liệu D gồm 1000 điểm có phân phối đều U(-10; 10) với số chiều là 20 và 1 điểm dữ liệu truy vấn q\n",
    "def generate_data(num_points, dimensions, lower_bound, upper_bound):\n",
    "    data = np.random.uniform(lower_bound, upper_bound, (num_points, dimensions))\n",
    "    query_point = np.random.uniform(lower_bound, upper_bound, dimensions)\n",
    "    return data, query_point\n",
    "\n",
    "# Sử dụng hàm generate_data để tạo tập dữ liệu D và điểm truy vấn q\n",
    "D, q = generate_data(1000, 20, -10, 10)\n"
   ]
  },
  {
   "cell_type": "code",
   "execution_count": 3,
   "metadata": {},
   "outputs": [],
   "source": [
    "# b) Viết hàm generate_random_hyperplanes(num_planes, dimensions) để phát sinh các siêu phẳng ngẫu nhiên\n",
    "def generate_random_hyperplanes(num_planes, dimensions):\n",
    "    return np.random.randn(num_planes, dimensions)\n",
    "\n",
    "# Áp dụng hàm này để phát sinh 10 siêu phẳng có số chiều 20\n",
    "hyperplanes = generate_random_hyperplanes(10, 20)\n"
   ]
  },
  {
   "cell_type": "code",
   "execution_count": 4,
   "metadata": {},
   "outputs": [],
   "source": [
    "# c) Viết hàm lsh_hash_points(points, hyperplanes) để mã hoá các điểm dữ liệu\n",
    "def lsh_hash_points(points, hyperplanes):\n",
    "    projections = np.dot(points, hyperplanes.T)\n",
    "    return (projections > 0).astype(int)\n",
    "\n",
    "# Áp dụng hàm này để mã hoá tập dữ liệu D trong câu a)\n",
    "hashed_D = lsh_hash_points(D, hyperplanes)\n"
   ]
  },
  {
   "cell_type": "code",
   "execution_count": 5,
   "metadata": {},
   "outputs": [],
   "source": [
    "from scipy.spatial.distance import hamming\n",
    "\n",
    "# d) Viết hàm query_lsh(hash_table, query_point, hyperplanes) để mã hoá điểm dữ liệu cần truy vấn\n",
    "def query_lsh(hash_table, query_point, hyperplanes):\n",
    "    query_hash = lsh_hash_points(query_point.reshape(1, -1), hyperplanes).flatten()\n",
    "    hamming_distances = np.array([hamming(query_hash, h) for h in hash_table])\n",
    "    return np.where(hamming_distances == hamming_distances.min())[0], hamming_distances.min()\n",
    "\n",
    "# Áp dụng hàm này để tìm các điểm có mã tương đồng với điểm q trong câu a)\n",
    "similar_points_indices, min_hamming_distance = query_lsh(hashed_D, q, hyperplanes)\n"
   ]
  },
  {
   "cell_type": "code",
   "execution_count": 6,
   "metadata": {},
   "outputs": [],
   "source": [
    "from scipy.spatial.distance import euclidean\n",
    "\n",
    "# e) Trong những điểm tìm được ở câu d), điểm nào tương đồng với q nhất (theo khoảng cách Euclide)?\n",
    "def find_most_similar(data, query_point, indices):\n",
    "    min_distance = float('inf')\n",
    "    most_similar_point = None\n",
    "    for idx in indices:\n",
    "        dist = euclidean(data[idx], query_point)\n",
    "        if dist < min_distance:\n",
    "            min_distance = dist\n",
    "            most_similar_point = data[idx]\n",
    "    return most_similar_point, min_distance\n",
    "\n",
    "most_similar_point, min_distance = find_most_similar(D, q, similar_points_indices)\n"
   ]
  },
  {
   "cell_type": "code",
   "execution_count": 7,
   "metadata": {},
   "outputs": [
    {
     "name": "stdout",
     "output_type": "stream",
     "text": [
      "Most similar point using LSH:  [-2.04646703 -5.9162225  -3.65568223 -2.49252596  7.97476041  1.42333095\n",
      "  1.2573416  -9.12329523  3.31071439 -3.09588071  3.82211002 -7.48359999\n",
      " -7.2088187  -5.94132428  3.20285412  9.03044113 -0.69548912  5.46095148\n",
      " -4.00535011  5.60775353] with Euclidean distance:  22.5180401960357\n",
      "Nearest neighbor using conventional method:  [-2.04646703 -5.9162225  -3.65568223 -2.49252596  7.97476041  1.42333095\n",
      "  1.2573416  -9.12329523  3.31071439 -3.09588071  3.82211002 -7.48359999\n",
      " -7.2088187  -5.94132428  3.20285412  9.03044113 -0.69548912  5.46095148\n",
      " -4.00535011  5.60775353] with Euclidean distance:  22.518040196035702\n"
     ]
    }
   ],
   "source": [
    "# f) Sử dụng thuật toán nearest neighbors thông thường để tìm điểm dữ liệu trong D gần q nhất và so sánh với kết quả ở câu e)\n",
    "def find_nearest_neighbor(data, query_point):\n",
    "    distances = np.linalg.norm(data - query_point, axis=1)\n",
    "    nearest_neighbor_idx = np.argmin(distances)\n",
    "    return data[nearest_neighbor_idx], distances[nearest_neighbor_idx]\n",
    "\n",
    "nearest_neighbor, nn_distance = find_nearest_neighbor(D, q)\n",
    "\n",
    "# So sánh kết quả\n",
    "print(\"Most similar point using LSH: \", most_similar_point, \"with Euclidean distance: \", min_distance)\n",
    "print(\"Nearest neighbor using conventional method: \", nearest_neighbor, \"with Euclidean distance: \", nn_distance)\n"
   ]
  },
  {
   "cell_type": "code",
   "execution_count": 9,
   "metadata": {},
   "outputs": [
    {
     "name": "stdout",
     "output_type": "stream",
     "text": [
      "LSH distances:  [30.485843104590653, 26.82143284221735, 24.64359678376673, 26.520599028165694, 31.63287419389769, 21.07837581064271, 28.842786007192608, 23.717362275613272, 32.63107712963388, 30.4220277896504]\n",
      "Nearest neighbor distances:  [22.678763891454775, 19.465200350180904, 21.557176224881264, 22.16515701531989, 22.49960821748461, 20.16155335483088, 21.06984033372809, 18.712881528540006, 18.413843709727004, 20.13684582431757]\n"
     ]
    }
   ],
   "source": [
    "# g) Chạy lại các bước trên nhiều lần và nhận xét\n",
    "def run_experiment(num_runs):\n",
    "    lsh_distances = []\n",
    "    nn_distances = []\n",
    "    for _ in range(num_runs):\n",
    "        D, q = generate_data(1000, 20, -10, 10)\n",
    "        hyperplanes = generate_random_hyperplanes(10, 20)\n",
    "        hashed_D = lsh_hash_points(D, hyperplanes)\n",
    "        similar_points_indices, _ = query_lsh(hashed_D, q, hyperplanes)\n",
    "        _, lsh_min_distance = find_most_similar(D, q, similar_points_indices)\n",
    "        _, nn_distance = find_nearest_neighbor(D, q)\n",
    "        lsh_distances.append(lsh_min_distance)\n",
    "        nn_distances.append(nn_distance)\n",
    "    return lsh_distances, nn_distances\n",
    "\n",
    "lsh_distances, nn_distances = run_experiment(10)\n",
    "\n",
    "print(\"LSH distances: \", lsh_distances)\n",
    "print(\"Nearest neighbor distances: \", nn_distances)\n"
   ]
  },
  {
   "cell_type": "markdown",
   "metadata": {},
   "source": [
    "### Nhận xét: \n",
    "- LSH giúp giảm đáng kể số lượng phép tính khoảng cách cần thiết, mặc dù kết quả có thể không chính xác bằng phương pháp tìm hàng xóm gần nhất thông thường.\n",
    "- Kết quả của LSH phụ thuộc vào việc phát sinh ngẫu nhiên các siêu phẳng, do đó có thể thay đổi khi chạy lại nhiều lần.\n"
   ]
  },
  {
   "cell_type": "markdown",
   "metadata": {},
   "source": [
    "----------------------------------------------------------------"
   ]
  },
  {
   "cell_type": "markdown",
   "metadata": {},
   "source": [
    "### <center> Hết </center>"
   ]
  }
 ],
 "metadata": {
  "kernelspec": {
   "display_name": "Python 3",
   "language": "python",
   "name": "python3"
  },
  "language_info": {
   "codemirror_mode": {
    "name": "ipython",
    "version": 3
   },
   "file_extension": ".py",
   "mimetype": "text/x-python",
   "name": "python",
   "nbconvert_exporter": "python",
   "pygments_lexer": "ipython3",
   "version": "3.11.0"
  }
 },
 "nbformat": 4,
 "nbformat_minor": 2
}
